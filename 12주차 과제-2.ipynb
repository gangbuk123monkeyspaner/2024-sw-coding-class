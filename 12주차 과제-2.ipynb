{
 "cells": [
  {
   "cell_type": "markdown",
   "metadata": {},
   "source": [
    "# 1. 하샤드 수\n",
    "내가 만든 코드는 x의 자릿수의 합으로 x가 나누어 지는 하샤드 수인지를 판별하는 코드이다.\n"
   ]
  },
  {
   "cell_type": "code",
   "execution_count": 7,
   "metadata": {},
   "outputs": [
    {
     "data": {
      "text/plain": [
       "True"
      ]
     },
     "execution_count": 7,
     "metadata": {},
     "output_type": "execute_result"
    }
   ],
   "source": [
    "def hashard(num):\n",
    "    result = 0\n",
    "    num = str(num)"
   ]
  },
  {
   "cell_type": "markdown",
   "metadata": {},
   "source": [
    "hashard 함수를 선언한 후, 변수 설정먼저 하였다. 그 후 num으로 입력받은 값을 한자리 씩 덧셈하기 위해 str()함수를 취해 줬다."
   ]
  },
  {
   "cell_type": "code",
   "execution_count": null,
   "metadata": {},
   "outputs": [],
   "source": [
    "    for i in num:\n",
    "            i = int(i)\n",
    "            result+=i\n",
    "    num = int(num)"
   ]
  },
  {
   "cell_type": "markdown",
   "metadata": {},
   "source": [
    "num의 각 자리의 수의 합(result)을 구한 후, num을 이로 나누기 위해 int 를 취해주었다."
   ]
  },
  {
   "cell_type": "code",
   "execution_count": null,
   "metadata": {},
   "outputs": [],
   "source": [
    "     if num % result == 0:\n",
    "            return True\n",
    "    else:\n",
    "        return False"
   ]
  },
  {
   "cell_type": "markdown",
   "metadata": {},
   "source": [
    "마지막으로 이 수가 하샤드 수 인지 아닌지를 판별하는 코드를 작성하였다."
   ]
  },
  {
   "cell_type": "code",
   "execution_count": 8,
   "metadata": {},
   "outputs": [
    {
     "data": {
      "text/plain": [
       "True"
      ]
     },
     "execution_count": 8,
     "metadata": {},
     "output_type": "execute_result"
    }
   ],
   "source": [
    "hashard(20)"
   ]
  },
  {
   "cell_type": "markdown",
   "metadata": {},
   "source": [
    "함수를 테스트 해보았다."
   ]
  },
  {
   "cell_type": "markdown",
   "metadata": {},
   "source": [
    "# 2. 스트링 길이를 담는 리스트 작성"
   ]
  },
  {
   "cell_type": "markdown",
   "metadata": {},
   "source": [
    "### 리스트의 각 요소, 즉 스트링의 길이를 담은 리스트를 작성하기"
   ]
  },
  {
   "cell_type": "code",
   "execution_count": 16,
   "metadata": {},
   "outputs": [],
   "source": [
    "words = [\"knowledge\", \"hardwork\", \"attitude\"]\n",
    "words_length =[]"
   ]
  },
  {
   "cell_type": "markdown",
   "metadata": {},
   "source": [
    "words에 테스트해볼 단어를 넣고, words_length라는 빈리스트를 형성하였다."
   ]
  },
  {
   "cell_type": "code",
   "execution_count": null,
   "metadata": {},
   "outputs": [],
   "source": [
    "for i in words:\n",
    "    words_length.append(len(i))"
   ]
  },
  {
   "cell_type": "markdown",
   "metadata": {},
   "source": [
    "words 리스트에 들어있는 각 항목들을 반복문을 통해 각각 스트링 길이를 세어, 이를 words_length리스트에 넣었다."
   ]
  },
  {
   "cell_type": "code",
   "execution_count": 17,
   "metadata": {},
   "outputs": [
    {
     "name": "stdout",
     "output_type": "stream",
     "text": [
      "[]\n"
     ]
    }
   ],
   "source": [
    "print(words_length)"
   ]
  },
  {
   "cell_type": "markdown",
   "metadata": {},
   "source": [
    "제대로 들어갔는지 확인"
   ]
  },
  {
   "cell_type": "markdown",
   "metadata": {},
   "source": [
    "# 3. 기약분수 튜플로 담기"
   ]
  },
  {
   "cell_type": "markdown",
   "metadata": {},
   "source": [
    "두 분수를 더한 값을 기약 분수로 나타냈을 때 분자와 분모를 순서대로 담은 튜플을 return하는 함수를 만들고자한다."
   ]
  },
  {
   "cell_type": "code",
   "execution_count": null,
   "metadata": {},
   "outputs": [],
   "source": [
    "def solution(numer1, denom1, numer2, denom2):\n",
    "    if denom1 != denom2:\n",
    "        numer1 *= denom2\n",
    "        numer2 *= denom1\n",
    "        denom = denom1 * denom2\n",
    "    else:\n",
    "        denom = denom1"
   ]
  },
  {
   "cell_type": "markdown",
   "metadata": {},
   "source": [
    "우선 함수를 설정하고 분모가 다를 경우 서로를 곱해줌으로써 같은 값으로 만든다. 이때 분자에도 각각 곱해준다"
   ]
  },
  {
   "cell_type": "code",
   "execution_count": null,
   "metadata": {},
   "outputs": [],
   "source": [
    "    numer_hop = numer1 + numer2"
   ]
  },
  {
   "cell_type": "markdown",
   "metadata": {},
   "source": [
    "분수를 더해준다."
   ]
  },
  {
   "cell_type": "code",
   "execution_count": null,
   "metadata": {},
   "outputs": [],
   "source": [
    "for i in range(min(numer_hop, denom), 1, -1):\n",
    "        if numer_hop % i == 0 and denom % i == 0:\n",
    "            numer_hop //= i\n",
    "            denom //= i\n",
    "            break  # 최대 공약수로 약분 후 반복문 종료\n",
    "    \n",
    "    return (numer_hop, denom)"
   ]
  },
  {
   "cell_type": "markdown",
   "metadata": {},
   "source": [
    "약분을 위해서 반복문을 해준다. 이때 최대 공약수로 약분하기위해 가장 큰 숫자부터 2까지의 순서로 진행해 준다. 마지막으로 결과를 튜플로 return 해준다"
   ]
  },
  {
   "cell_type": "code",
   "execution_count": null,
   "metadata": {},
   "outputs": [],
   "source": [
    "print(solution(13, 20, 3, 8))  # 예상 결과: (37, 40)"
   ]
  },
  {
   "cell_type": "markdown",
   "metadata": {},
   "source": [
    "테스트"
   ]
  }
 ],
 "metadata": {
  "kernelspec": {
   "display_name": "Python 3",
   "language": "python",
   "name": "python3"
  },
  "language_info": {
   "codemirror_mode": {
    "name": "ipython",
    "version": 3
   },
   "file_extension": ".py",
   "mimetype": "text/x-python",
   "name": "python",
   "nbconvert_exporter": "python",
   "pygments_lexer": "ipython3",
   "version": "3.12.2"
  }
 },
 "nbformat": 4,
 "nbformat_minor": 2
}
