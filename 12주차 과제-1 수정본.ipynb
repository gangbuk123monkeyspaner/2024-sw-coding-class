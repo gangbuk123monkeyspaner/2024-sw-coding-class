{
 "cells": [
  {
   "cell_type": "markdown",
   "metadata": {},
   "source": [
    "#소수 판별 함수\n",
    "\n",
    "내가 만든 함수는 주어진 숫자들 중에서 세 숫자의 조합을 모두 생성하고, 각 조합의 합이 소수인 조합의 개수를 반환하는 함수이다."
   ]
  },
  {
   "cell_type": "code",
   "execution_count": null,
   "metadata": {},
   "outputs": [],
   "source": [
    "import itertools"
   ]
  },
  {
   "cell_type": "markdown",
   "metadata": {},
   "source": [
    "combination 함수 사용을 위해 불러옴"
   ]
  },
  {
   "cell_type": "code",
   "execution_count": null,
   "metadata": {},
   "outputs": [],
   "source": [
    "def solution(*nums):\n",
    "    result = 0\n",
    "    nums = list(nums)"
   ]
  },
  {
   "cell_type": "markdown",
   "metadata": {},
   "source": [
    "변수 설정 및 파라메타 사용을 통해 입력한 값만큼 계속해서 리스트에 추가가"
   ]
  },
  {
   "cell_type": "code",
   "execution_count": null,
   "metadata": {},
   "outputs": [],
   "source": [
    "    combination_of_3 = list(itertools.combinations(nums, 3))    "
   ]
  },
  {
   "cell_type": "markdown",
   "metadata": {},
   "source": [
    "콤비네이션 함수를 통해 주어진 값으로 부터 세 숫자의 조합을 형성"
   ]
  },
  {
   "cell_type": "code",
   "execution_count": null,
   "metadata": {},
   "outputs": [],
   "source": [
    "    for i in combination_of_3:\n",
    "            hop = sum(i)\n",
    "            is_prime = True\n",
    "            k = 2\n",
    "            \n",
    "            while hop > k:\n",
    "                if hop % k == 0:\n",
    "                    is_prime = False\n",
    "                    break\n",
    "                k += 1\n",
    "            \n",
    "            if is_prime:\n",
    "                result += 1\n",
    "        \n",
    "        return result"
   ]
  },
  {
   "cell_type": "markdown",
   "metadata": {},
   "source": [
    "조합 내의 성분들의 합을 구한 후, 그 합이 소수인지 아닌지에 따라 result 의 값이 달리짐. 이때 result는 소수의 개수"
   ]
  },
  {
   "cell_type": "markdown",
   "metadata": {},
   "source": []
  }
 ],
 "metadata": {
  "language_info": {
   "name": "python"
  }
 },
 "nbformat": 4,
 "nbformat_minor": 2
}
