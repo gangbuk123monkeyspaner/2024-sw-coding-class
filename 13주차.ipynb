{
 "cells": [
  {
   "cell_type": "code",
   "execution_count": 8,
   "metadata": {},
   "outputs": [
    {
     "name": "stdout",
     "output_type": "stream",
     "text": [
      "임재범 \n",
      "\n",
      "이문세 \n",
      "\n",
      "나얼\n"
     ]
    }
   ],
   "source": [
    "with open('C:/Users/USER/Desktop/컴퓨팅사고 sw코딩/input.txt','r', encoding='utf-8') as file:\n",
    "    while True:\n",
    "        line = file.readline()\n",
    "        if not line:\n",
    "            break\n",
    "        print(line)\n"
   ]
  },
  {
   "cell_type": "code",
   "execution_count": 7,
   "metadata": {},
   "outputs": [],
   "source": [
    "with open('testfile.txt','w') as f:\n",
    "    f.write('Do what you like/n')\n",
    "    f.close()"
   ]
  },
  {
   "cell_type": "code",
   "execution_count": 17,
   "metadata": {},
   "outputs": [
    {
     "name": "stdout",
     "output_type": "stream",
     "text": [
      "27000\n"
     ]
    }
   ],
   "source": [
    "with open('C:/Users/USER/Desktop/컴퓨팅사고 sw코딩/sales.txt','r', encoding='utf-8') as file:\n",
    "    hop = 0\n",
    "    while True:\n",
    "\n",
    "        line = file.readline()\n",
    "        if not line:\n",
    "            break\n",
    "        line = int(line)\n",
    "        hop+=line\n",
    "        \n",
    "    print(hop)\n",
    "with open('C:/Users/USER/Desktop/컴퓨팅사고 sw코딩/sales.txt','w', encoding='utf-8') as outfile:\n",
    "    outfile.write(hop)\n",
    "    outfile.close()\n"
   ]
  },
  {
   "cell_type": "code",
   "execution_count": 1,
   "metadata": {},
   "outputs": [
    {
     "name": "stdout",
     "output_type": "stream",
     "text": [
      "가장 추운날은 -19.2입니다\n"
     ]
    }
   ],
   "source": [
    "import csv\n",
    "with open('C:/Users/USER/Downloads/weather.csv','r') as csvfile:\n",
    "    data = csv.reader(csvfile)\n",
    "    header = next(data)\n",
    "    temp = 1000  #가장 첫 번째 값을 위해\n",
    "    for row in data:\n",
    "        if temp > float(row[3]):\n",
    "            temp = float(row[3])\n",
    "    print('가장 추운날은 {}입니다'.format(temp))\n",
    "\n"
   ]
  }
 ],
 "metadata": {
  "kernelspec": {
   "display_name": "Python 3",
   "language": "python",
   "name": "python3"
  },
  "language_info": {
   "codemirror_mode": {
    "name": "ipython",
    "version": 3
   },
   "file_extension": ".py",
   "mimetype": "text/x-python",
   "name": "python",
   "nbconvert_exporter": "python",
   "pygments_lexer": "ipython3",
   "version": "3.12.2"
  }
 },
 "nbformat": 4,
 "nbformat_minor": 2
}
