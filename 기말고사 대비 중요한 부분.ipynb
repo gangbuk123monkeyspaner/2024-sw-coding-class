{
 "cells": [
  {
   "cell_type": "markdown",
   "metadata": {},
   "source": [
    "# 1. append 와 extend 차이"
   ]
  },
  {
   "cell_type": "markdown",
   "metadata": {},
   "source": [
    "주어진 코드에서 append 대신 extend를 사용한 이유는 numbers가 이미 튜플 형태로 전달되기 때문입니다. extend는 iterable(반복 가능한 객체)의 모든 요소를 리스트에 추가합니다. 반면, append는 하나의 객체를 리스트의 마지막에 추가합니다. 두 함수의 차이를 이해하기 위해 다음 예제를 살펴보겠습니다"
   ]
  },
  {
   "cell_type": "code",
   "execution_count": 1,
   "metadata": {},
   "outputs": [
    {
     "name": "stdout",
     "output_type": "stream",
     "text": [
      "[(10, 20, 123, 44, 3, 99, 200)]\n"
     ]
    }
   ],
   "source": [
    "mylist = []\n",
    "numbers = (10, 20, 123, 44, 3, 99, 200)\n",
    "mylist.append(numbers)\n",
    "print(mylist)\n"
   ]
  },
  {
   "cell_type": "markdown",
   "metadata": {},
   "source": [
    "리스트 안에 하나의 튜플이 추가"
   ]
  },
  {
   "cell_type": "code",
   "execution_count": 2,
   "metadata": {},
   "outputs": [
    {
     "name": "stdout",
     "output_type": "stream",
     "text": [
      "[10, 20, 123, 44, 3, 99, 200]\n"
     ]
    }
   ],
   "source": [
    "mylist = []\n",
    "numbers = (10, 20, 123, 44, 3, 99, 200)\n",
    "mylist.extend(numbers)\n",
    "print(mylist)\n"
   ]
  },
  {
   "cell_type": "markdown",
   "metadata": {},
   "source": [
    "리스트 안에 하나하나씩 숫자 추가"
   ]
  },
  {
   "cell_type": "markdown",
   "metadata": {},
   "source": [
    "# 2. 함수 설정 시 return만 믿고 깝치지 말고 print 추가시켜주기"
   ]
  },
  {
   "cell_type": "code",
   "execution_count": 3,
   "metadata": {},
   "outputs": [
    {
     "data": {
      "text/plain": [
       "'회문입니다'"
      ]
     },
     "execution_count": 3,
     "metadata": {},
     "output_type": "execute_result"
    }
   ],
   "source": [
    "def is_palindrom(str_):\n",
    "    str_lower = str_.lower()\n",
    "    for i in range(len(str_) // 2):\n",
    "        if str_lower[i] == str_lower[-(i+1)]:\n",
    "            continue\n",
    "        else:\n",
    "            return '회문이 아닙니다'\n",
    "    return '회문입니다'\n",
    "\n",
    "is_palindrom('Civic')"
   ]
  },
  {
   "cell_type": "markdown",
   "metadata": {},
   "source": [
    "위 코드에서 마지막 결과물이 안나오는 프로그램도 많음."
   ]
  },
  {
   "cell_type": "code",
   "execution_count": null,
   "metadata": {},
   "outputs": [],
   "source": [
    "def is_palindrom(str_):\n",
    "    str_lower = str_.lower()\n",
    "    for i in range(len(str_) // 2):\n",
    "        if str_lower[i] == str_lower[-(i+1)]:\n",
    "            continue\n",
    "        else:\n",
    "            return '회문이 아닙니다'\n",
    "    return '회문입니다'\n",
    "\n",
    "print(is_palindrom('Civic'))"
   ]
  },
  {
   "cell_type": "markdown",
   "metadata": {},
   "source": [
    "웬만하면 그냥 위 코드처럼 마지막에 print 붙여주자"
   ]
  },
  {
   "cell_type": "markdown",
   "metadata": {},
   "source": [
    "# 3. and 문"
   ]
  },
  {
   "cell_type": "markdown",
   "metadata": {},
   "source": [
    "if n % 3 and m % 3 == 0:\n",
    "    print True\n",
    "무엇이 잘못 되었을까?"
   ]
  },
  {
   "cell_type": "code",
   "execution_count": 5,
   "metadata": {},
   "outputs": [
    {
     "name": "stdout",
     "output_type": "stream",
     "text": [
      "True\n"
     ]
    }
   ],
   "source": [
    "n = 10\n",
    "m = 12\n",
    "if n % 3 and m % 3 == 0:\n",
    "    print(True)"
   ]
  },
  {
   "cell_type": "markdown",
   "metadata": {},
   "source": [
    "위 코드에서 n % 3 값이 0만 아니게 된다면 무조건 True 값이 나온다. 따라서 10 % 3 값이 1이니, 내가 원하는 3의 배수만을 찾는 것이 아닌, 오히려 반대로 3의 배수가 아닌 값에서 True가 나오게 된다."
   ]
  },
  {
   "cell_type": "code",
   "execution_count": 6,
   "metadata": {},
   "outputs": [
    {
     "name": "stdout",
     "output_type": "stream",
     "text": [
      "False\n"
     ]
    }
   ],
   "source": [
    "n = 10\n",
    "m = 12\n",
    "if n % 3 == 0 and m % 3 == 0:\n",
    "    print(True)\n",
    "else:\n",
    "    print(False)"
   ]
  },
  {
   "cell_type": "markdown",
   "metadata": {},
   "source": [
    "따라서 위 식처럼 두 개다 조건을 만들어 줘야한다"
   ]
  },
  {
   "cell_type": "markdown",
   "metadata": {},
   "source": [
    "# 4 파일 읽고 쓰고 추가하기"
   ]
  },
  {
   "cell_type": "markdown",
   "metadata": {},
   "source": [
    "'r' 형식은 read 형태,\n",
    "'w' 형식은 write 형태,\n",
    "'a' 형식은 append 형태로\n",
    "안에 내용이 있으면 다 지운 후 내용을 작성하는 'w' 형식과는 달리,\n",
    "'a' 형식은 안에 내용이 있으면 그 다음줄에 작성한다"
   ]
  },
  {
   "cell_type": "markdown",
   "metadata": {},
   "source": [
    "# 5. Numpy"
   ]
  },
  {
   "cell_type": "markdown",
   "metadata": {},
   "source": [
    "numpy에서 np.linspace 즉 일정한 범위로 나누는 이 함수는 결과값에 시작값과 결과값을 포함할 수 있다."
   ]
  },
  {
   "cell_type": "code",
   "execution_count": 1,
   "metadata": {},
   "outputs": [
    {
     "name": "stdout",
     "output_type": "stream",
     "text": [
      "[ 0.  5. 10. 15. 20.]\n"
     ]
    }
   ],
   "source": [
    "import numpy as np\n",
    "a = np.linspace(0,20,5)\n",
    "print(a)"
   ]
  },
  {
   "cell_type": "markdown",
   "metadata": {},
   "source": [
    "(+) arange는 종료값 포함 안됨"
   ]
  },
  {
   "cell_type": "code",
   "execution_count": 2,
   "metadata": {},
   "outputs": [
    {
     "name": "stdout",
     "output_type": "stream",
     "text": [
      "[ 3  6  9 12 15 18 21 24 27 30 33 36 39 42 45 48]\n"
     ]
    }
   ],
   "source": [
    "a3 = np.arange(3,51,3)\n",
    "print(a3)"
   ]
  }
 ],
 "metadata": {
  "kernelspec": {
   "display_name": "Python 3",
   "language": "python",
   "name": "python3"
  },
  "language_info": {
   "codemirror_mode": {
    "name": "ipython",
    "version": 3
   },
   "file_extension": ".py",
   "mimetype": "text/x-python",
   "name": "python",
   "nbconvert_exporter": "python",
   "pygments_lexer": "ipython3",
   "version": "3.12.2"
  }
 },
 "nbformat": 4,
 "nbformat_minor": 2
}
