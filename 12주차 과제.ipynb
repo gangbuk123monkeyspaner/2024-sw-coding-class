{
 "cells": [
  {
   "cell_type": "markdown",
   "metadata": {},
   "source": [
    "# 소수 판별 함수\n",
    "\n",
    "내가 만든 함수는 주어진 숫자들 중에서 세 숫자의 조합을 모두 생성하고, 각 조합의 합이 소수인 조합의 개수를 반환하는 함수이다.\n",
    "\n",
    "## Python 코드\n",
    "\n",
    "```python\n",
    "import itertools  # combination 함수를 사용하기 위해 import\n",
    "\n",
    "def solution(*nums):\n",
    "    result = 0\n",
    "    nums = list(nums)\n",
    "    \n",
    "    # 주어진 숫자들로부터 세 숫자의 조합을 생성\n",
    "    combination_of_3 = list(itertools.combinations(nums, 3))\n",
    "    \n",
    "    for i in combination_of_3:\n",
    "        hop = sum(i)  # 조합의 합을 계산\n",
    "        is_prime = True\n",
    "        k = 2\n",
    "        \n",
    "        # 소수 판별\n",
    "        while hop > k:\n",
    "            if hop % k == 0:  # 나누어 떨어지면 소수가 아님\n",
    "                is_prime = False\n",
    "                break\n",
    "            k += 1\n",
    "        \n",
    "        if is_prime:  # 소수인 경우 결과값을 증가\n",
    "            result += 1\n",
    "    \n",
    "    return result\n",
    "\n",
    "print(solution(1, 2, 3, 4, 5, 6, 7))   #테스트\n"
   ]
  },
  {
   "cell_type": "code",
   "execution_count": null,
   "metadata": {},
   "outputs": [],
   "source": []
  }
 ],
 "metadata": {
  "kernelspec": {
   "display_name": "Python 3",
   "language": "python",
   "name": "python3"
  },
  "language_info": {
   "codemirror_mode": {
    "name": "ipython",
    "version": 3
   },
   "file_extension": ".py",
   "mimetype": "text/x-python",
   "name": "python",
   "nbconvert_exporter": "python",
   "pygments_lexer": "ipython3",
   "version": "3.12.2"
  }
 },
 "nbformat": 4,
 "nbformat_minor": 2
}
