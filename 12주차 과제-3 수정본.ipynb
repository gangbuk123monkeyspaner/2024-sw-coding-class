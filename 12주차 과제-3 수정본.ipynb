{
 "cells": [
  {
   "cell_type": "markdown",
   "metadata": {},
   "source": [
    "#간단 계신기 만들기\n",
    "\n",
    "계산기를 만들면서 발생하는 오류도 함께 처리한다"
   ]
  },
  {
   "cell_type": "code",
   "execution_count": null,
   "metadata": {},
   "outputs": [],
   "source": [
    "try:\n",
    "    a,b = map(int,input('두 수를 입력하세요:').split())\n",
    "    try:\n",
    "        c = a/b\n",
    "        print(f'{a} / {b} = {c}')\n",
    "    except ZeroDivisionError:\n",
    "        print('0으로는 나눌수 없습니다')\n",
    "\n",
    "except ValueError:\n",
    "    print('두 수를 입력했는지 확인하세요')"
   ]
  },
  {
   "cell_type": "code",
   "execution_count": null,
   "metadata": {},
   "outputs": [],
   "source": [
    "try:\n",
    "    a,b = map(int,input('두 수를 입력하세요:').split())"
   ]
  },
  {
   "cell_type": "markdown",
   "metadata": {},
   "source": [
    "우선 a,b값을 입력받는다. 이때 두개의 숫자를 입력해야지만 다음 코드가 진행된다."
   ]
  },
  {
   "cell_type": "code",
   "execution_count": null,
   "metadata": {},
   "outputs": [],
   "source": [
    "    try:\n",
    "        c = a/b\n",
    "        print(f'{a} / {b} = {c}')\n",
    "    except ZeroDivisionError:\n",
    "        print('0으로는 나눌수 없습니다')"
   ]
  },
  {
   "cell_type": "markdown",
   "metadata": {},
   "source": [
    "두개의 값을 입력받은 후 그 중 b값이 0일 경우를 대비해 이를 처리할 수 있는 코드를 작성했다."
   ]
  },
  {
   "cell_type": "code",
   "execution_count": null,
   "metadata": {},
   "outputs": [],
   "source": [
    "except ValueError:\n",
    "    print('두 수를 입력했는지 확인하세요')"
   ]
  },
  {
   "cell_type": "markdown",
   "metadata": {},
   "source": [
    "만약 처음 수를 입력할때 두 수를 제대로 입력하지 않았을 경우 다음을 출력한다."
   ]
  }
 ],
 "metadata": {
  "kernelspec": {
   "display_name": "Python 3",
   "language": "python",
   "name": "python3"
  },
  "language_info": {
   "codemirror_mode": {
    "name": "ipython",
    "version": 3
   },
   "file_extension": ".py",
   "mimetype": "text/x-python",
   "name": "python",
   "nbconvert_exporter": "python",
   "pygments_lexer": "ipython3",
   "version": "3.12.2"
  }
 },
 "nbformat": 4,
 "nbformat_minor": 2
}
