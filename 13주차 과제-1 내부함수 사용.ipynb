{
 "cells": [
  {
   "cell_type": "markdown",
   "metadata": {},
   "source": [
    "# 파이썬 내부함수 알아보기"
   ]
  },
  {
   "cell_type": "markdown",
   "metadata": {},
   "source": [
    "### all() any() enumerate() iter() zip () 등의 파이썬 내부함수를 알아보고자 한다."
   ]
  },
  {
   "cell_type": "markdown",
   "metadata": {},
   "source": [
    "1. all : all() 함수는 주어진 iterable(반복 가능한 객체)의 모든 요소가 참(Truthy)인지 확인합니다. 만약 모든 요소가 참이면 True를 반환하고, 하나라도 거짓(Falsy)이면 False를 반환합니다. 빈 iterable에 대해서는 항상 True를 반환합니다."
   ]
  },
  {
   "cell_type": "code",
   "execution_count": 6,
   "metadata": {},
   "outputs": [
    {
     "name": "stdout",
     "output_type": "stream",
     "text": [
      "True\n",
      "False\n",
      "True\n"
     ]
    }
   ],
   "source": [
    "print(all([True, True, True]))\n",
    "print(all([True,False,True]))\n",
    "print(all([]))"
   ]
  },
  {
   "cell_type": "markdown",
   "metadata": {},
   "source": [
    "2. any: any() 함수는 주어진 iterable의 요소 중 하나라도 참이 있는지 확인합니다. 하나라도 참이면 True를 반환하고, 모든 요소가 거짓이면 False를 반환합니다. 빈 iterable에 대해서는 항상 False를 반환합니다."
   ]
  },
  {
   "cell_type": "code",
   "execution_count": 7,
   "metadata": {},
   "outputs": [
    {
     "name": "stdout",
     "output_type": "stream",
     "text": [
      "True\n",
      "True\n",
      "False\n"
     ]
    }
   ],
   "source": [
    "print(any([True,True,True]))\n",
    "print(any([True,False,False]))\n",
    "print(any([]))"
   ]
  },
  {
   "cell_type": "markdown",
   "metadata": {},
   "source": [
    "3. enurmerate: enumerate() 함수는 iterable을 인덱스를 포함한 enumerate 객체로 반환합니다. 이는 주로 for 루프에서 '인덱스와 값을 동시에 얻을 때' 유용합니다. 이때 결과값은 튜플의 형태로 나타나게 됩니다.그렇기에 각각 다른 변수에 할당하고 싶다면 인자풀기(unpacking)을 해어주야 합니다."
   ]
  },
  {
   "cell_type": "code",
   "execution_count": 21,
   "metadata": {},
   "outputs": [
    {
     "name": "stdout",
     "output_type": "stream",
     "text": [
      "(0, 'a')\n",
      "(1, 'b')\n",
      "(2, 'c')\n",
      "0 a\n",
      "1 b\n",
      "2 c\n"
     ]
    }
   ],
   "source": [
    "my_list = ['a', 'b', 'c']\n",
    "for entry in enumerate(my_list):    #튜플 형태\n",
    "    print(entry)      \n",
    "\n",
    "\n",
    "for index, value in enumerate(my_list):      #unpacking\n",
    "    print(index, value)\n",
    "\n"
   ]
  },
  {
   "cell_type": "markdown",
   "metadata": {},
   "source": [
    "4. iter : iter() 함수는 iterable 객체에서 iterator 객체를 반환합니다. 이는 주로 반복을 수동으로 제어하거나, 커스텀 반복자를 만들 때 사용됩니다. 예를 들어, 리스트에서 iterator를 만들고 next() 함수를 사용하여 값을 하나씩 가져올 수 있습니다."
   ]
  },
  {
   "cell_type": "code",
   "execution_count": 20,
   "metadata": {},
   "outputs": [
    {
     "name": "stdout",
     "output_type": "stream",
     "text": [
      "0\n",
      "1\n",
      "2\n",
      "10\n",
      "20\n",
      "30\n"
     ]
    }
   ],
   "source": [
    "#수동제어 반복\n",
    "it = iter(range(3))\n",
    "print(next(it))  \n",
    "print(next(it))  \n",
    "print(next(it))  #3번째에서 반복을 끝냄\n",
    "#print(next(it))  <--- 오류\n",
    "\n",
    "\n",
    "\n",
    "# 리스트 형태의 iterable 객체\n",
    "my_list = [10, 20, 30]\n",
    "it = iter(my_list)\n",
    "\n",
    "print(next(it))  \n",
    "print(next(it))  \n",
    "print(next(it))  \n"
   ]
  },
  {
   "cell_type": "markdown",
   "metadata": {},
   "source": [
    "5. zip : zip() 함수는 여러 iterable을 병렬로 묶어서 튜플의 iterator를 반환합니다. 각 튜플은 입력으로 받은 iterable의 동일한 인덱스 요소를 포함합니다. iterable의 길이가 다르면 가장 짧은 길이에 맞춰집니다."
   ]
  },
  {
   "cell_type": "code",
   "execution_count": 13,
   "metadata": {},
   "outputs": [
    {
     "name": "stdout",
     "output_type": "stream",
     "text": [
      "[(1, 'a'), (2, 'b'), (3, 'c')]\n",
      "[(1, 'a'), (2, 'b'), (3, 'c'), (4, 'd')]\n"
     ]
    }
   ],
   "source": [
    "list1 = [1, 2, 3]\n",
    "list2 = ['a', 'b', 'c']\n",
    "zipped = zip(list1, list2)\n",
    "print(list(zipped))\n",
    "\n",
    "#길이가 다를 때\n",
    "list1 = [1, 2, 3, 4, 5, 6, 7]\n",
    "list2 = ['a', 'b', 'c', 'd']\n",
    "zipped = zip(list1, list2)\n",
    "print(list(zipped))"
   ]
  }
 ],
 "metadata": {
  "kernelspec": {
   "display_name": "Python 3",
   "language": "python",
   "name": "python3"
  },
  "language_info": {
   "codemirror_mode": {
    "name": "ipython",
    "version": 3
   },
   "file_extension": ".py",
   "mimetype": "text/x-python",
   "name": "python",
   "nbconvert_exporter": "python",
   "pygments_lexer": "ipython3",
   "version": "3.12.2"
  }
 },
 "nbformat": 4,
 "nbformat_minor": 2
}
